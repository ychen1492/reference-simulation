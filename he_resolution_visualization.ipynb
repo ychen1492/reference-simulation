{
 "cells": [
  {
   "cell_type": "code",
   "execution_count": null,
   "metadata": {},
   "outputs": [],
   "source": [
    "import pandas as pd\n",
    "import matplotlib.pyplot as plt\n",
    "from mpl_toolkits.axes_grid1 import make_axes_locatable\n",
    "import numpy as np"
   ]
  },
  {
   "attachments": {},
   "cell_type": "markdown",
   "metadata": {},
   "source": [
    "- The plot of serial foward simulations on different dx values"
   ]
  },
  {
   "cell_type": "code",
   "execution_count": null,
   "metadata": {},
   "outputs": [],
   "source": [
    "temperature = pd.read_csv('./SerialResolutionHe/temperature_resolution_dx_1.csv')\n",
    "time_arr = temperature['time'].to_numpy() / 365\n",
    "temperature.drop('time', inplace=True, axis=1)\n",
    "\n",
    "fig, ax = plt.subplots(1, 1,figsize=(10, 10))\n",
    "axx = fig.axes\n",
    "labels = []\n",
    "for col in range(len(temperature.columns)):\n",
    "    axx[0].plot(time_arr, temperature.iloc[:,col].to_numpy(), linewidth=2)\n",
    "    labels.append(r'dx = %s' % (temperature.columns[col]))\n",
    "# axx[0].grid()\n",
    "axx[0].legend(labels)\n",
    "axx[0].set_xlabel('Time, yrs')\n",
    "axx[0].set_ylabel('Temperature, K')\n",
    "axx[0].grid(visible=True, which='both',axis='both',linestyle='--')"
   ]
  },
  {
   "cell_type": "code",
   "execution_count": null,
   "metadata": {},
   "outputs": [],
   "source": [
    "temperature.columns = [float(x) for x in temperature.columns]\n",
    "temperature = temperature.reindex(sorted(temperature.columns), axis=1)\n",
    "# empty difference list\n",
    "differences = []\n",
    "\n",
    "# dx values\n",
    "dx = []\n",
    "for x in temperature.columns:\n",
    "    dx.append(float(x))\n",
    "\n",
    "for i in range(1,len(temperature.columns)):\n",
    "    diff = temperature.iloc[:,i] - temperature.iloc[:,i-1]\n",
    "    differences.append(sum(diff**2))\n",
    "\n",
    "fig, ax = plt.subplots(1, 1,figsize=(10, 10))\n",
    "axx = fig.axes\n",
    "\n",
    "axx[0].plot(dx[1:], differences, linewidth=2, color='r', marker='*')\n",
    "axx[0].plot(dx[0:], np.ones(len(differences)+1)*0.01, linewidth=2, color='k', linestyle='--')\n",
    "axx[0].set_xlabel('dx')\n",
    "axx[0].set_xscale('log')\n",
    "axx[0].set_xlim(min(dx), max(dx))\n",
    "axx[0].set_ylabel('Loss')\n",
    "axx[0].grid(visible=True, which='both',axis='both',linestyle='--')"
   ]
  },
  {
   "cell_type": "code",
   "execution_count": null,
   "metadata": {},
   "outputs": [],
   "source": [
    "from scipy.optimize import curve_fit\n",
    "def func(x, a, b, c, d):\n",
    "    return a * np.array([i**3 for i in x])+ b*np.array([i**2 for i in x]) + c * np.array(x) + d\n",
    "fig, ax = plt.subplots(1, 1,figsize=(10, 10))\n",
    "axx = fig.axes\n",
    "popt, pcov = curve_fit(func, dx[1:], differences)\n",
    "axx[0].plot(dx[1:], func(dx[1:], *popt), 'b-',\n",
    "         label='fit: a=%5.3f, b=%5.3f, c=%5.3f, d=%5.3f' % tuple(popt))\n",
    "axx[0].scatter(dx[1:], differences, color='r', marker='*')\n",
    "axx[0].plot(dx[0:], np.ones(len(differences)+1)*0.1, linewidth=2, color='k', linestyle='--')\n",
    "axx[0].set_xlabel('dx')\n",
    "axx[0].set_xscale('log')\n",
    "axx[0].set_xlim(min(dx), max(dx))\n",
    "axx[0].set_ylabel('Loss')\n",
    "axx[0].grid(visible=True, which='both',axis='both',linestyle='--')"
   ]
  },
  {
   "cell_type": "code",
   "execution_count": null,
   "metadata": {},
   "outputs": [],
   "source": [
    "temperature = pd.read_csv('./SerialResolutionHe/temperature_resolution_dy_1.csv')\n",
    "time_arr = temperature['time'].to_numpy() / 365\n",
    "temperature.drop('time', inplace=True, axis=1)\n",
    "\n",
    "\n",
    "fig, ax = plt.subplots(1, 1,figsize=(10, 10))\n",
    "axx = fig.axes\n",
    "labels = []\n",
    "for col in range(len(temperature.columns)):\n",
    "    # if col == 2:\n",
    "    #      continue\n",
    "    axx[0].plot(time_arr, temperature.iloc[:,col].to_numpy(), linewidth=2)\n",
    "    labels.append(r'dy = %s' % (temperature.columns[col]))\n",
    "# axx[0].grid()\n",
    "axx[0].legend(labels)\n",
    "axx[0].set_xlabel('Time, yrs')\n",
    "axx[0].set_ylabel('Temperature, K')\n",
    "axx[0].grid(visible=True, which='both',axis='both',linestyle='--')"
   ]
  },
  {
   "cell_type": "code",
   "execution_count": null,
   "metadata": {},
   "outputs": [],
   "source": [
    "temperature.columns = [float(x) for x in temperature.columns]\n",
    "temperature = temperature.reindex(sorted(temperature.columns), axis=1)\n",
    "# empty difference list\n",
    "differences = []\n",
    "\n",
    "# dy values\n",
    "dy = []\n",
    "for x in temperature.columns:\n",
    "    dy.append(float(x))\n",
    "\n",
    "for i in range(1,len(temperature.columns)):\n",
    "    diff = temperature.iloc[:,i] - temperature.iloc[:,i-1]\n",
    "    diff = diff.dropna()\n",
    "    differences.append(sum(diff**2))\n",
    "\n",
    "fig, ax = plt.subplots(1, 1,figsize=(10, 10))\n",
    "axx = fig.axes\n",
    "\n",
    "axx[0].plot(dy[1:], differences, linewidth=2, color='r', marker='*')\n",
    "axx[0].plot(dy[0:], np.ones(len(differences)+1)*0.07, linewidth=2, color='k', linestyle='--')\n",
    "axx[0].set_xlabel('dy')\n",
    "axx[0].set_xscale('log')\n",
    "axx[0].set_xlim(min(dy), max(dy))\n",
    "axx[0].set_ylabel('Loss')\n",
    "axx[0].grid(visible=True, which='both',axis='both',linestyle='--')"
   ]
  },
  {
   "cell_type": "code",
   "execution_count": null,
   "metadata": {},
   "outputs": [],
   "source": [
    "from scipy.optimize import curve_fit\n",
    "def func(x, a, b, c, d):\n",
    "    return a * np.array([i**4 for i in x])+ b*np.array([i**3 for i in x]) + c * np.array(x) + d\n",
    "fig, ax = plt.subplots(1, 1,figsize=(10, 10))\n",
    "axx = fig.axes\n",
    "popt, pcov = curve_fit(func, dy[1:], differences)\n",
    "axx[0].plot(dy[1:], func(dy[1:], *popt), 'b-')\n",
    "axx[0].scatter(dy[1:], differences, color='r', marker='*')\n",
    "axx[0].plot(dy[0:], np.ones(len(differences)+1)*0.08, linewidth=2, color='k', linestyle='--')\n",
    "axx[0].set_xlabel('dy')\n",
    "axx[0].set_xscale('log')\n",
    "axx[0].set_xlim(min(dy), max(dy))\n",
    "axx[0].set_ylabel('Loss')\n",
    "axx[0].grid(visible=True, which='both',axis='both',linestyle='--')"
   ]
  },
  {
   "cell_type": "code",
   "execution_count": null,
   "metadata": {},
   "outputs": [],
   "source": [
    "temperature = pd.read_csv('./SerialResolutionHe/temperature_resolution_dz.csv')\n",
    "time_arr = temperature['time'].to_numpy() / 365\n",
    "temperature.drop('time', inplace=True, axis=1)\n",
    "# temperature['']\n",
    "\n",
    "fig, ax = plt.subplots(1, 1,figsize=(10, 10))\n",
    "axx = fig.axes\n",
    "labels = []\n",
    "for col in range(len(temperature.columns)):\n",
    "    axx[0].plot(time_arr, temperature.iloc[:,col].to_numpy(), linewidth=2)\n",
    "    labels.append(r'dz = %s' % (temperature.columns[col]))\n",
    "# axx[0].grid()\n",
    "axx[0].legend(labels)\n",
    "axx[0].set_xlabel('Time, yrs')\n",
    "axx[0].set_ylabel('Temperature, K')\n",
    "axx[0].grid(visible=True, which='both',axis='both',linestyle='--')"
   ]
  },
  {
   "cell_type": "code",
   "execution_count": null,
   "metadata": {},
   "outputs": [],
   "source": [
    "temperature.columns = [float(x) for x in temperature.columns]\n",
    "temperature = temperature.reindex(sorted(temperature.columns), axis=1)\n",
    "differences = []\n",
    "\n",
    "# dy values\n",
    "dz = []\n",
    "for x in temperature.columns:\n",
    "    dz.append(float(x))\n",
    "\n",
    "for i in range(1,len(temperature.columns)):\n",
    "    diff = temperature.iloc[:,i] - temperature.iloc[:,i-1]\n",
    "    differences.append(sum(diff**2))\n",
    "\n",
    "fig, ax = plt.subplots(1, 1,figsize=(10, 10))\n",
    "axx = fig.axes\n",
    "\n",
    "axx[0].plot(dz[1:], differences, linewidth=2, color='r', marker='*')\n",
    "axx[0].set_xlabel('dz')\n",
    "axx[0].set_xscale('log')\n",
    "axx[0].set_xlim(min(dz), max(dz))\n",
    "axx[0].set_ylabel('Loss')\n",
    "axx[0].grid(visible=True, which='both',axis='both',linestyle='--')"
   ]
  }
 ],
 "metadata": {
  "kernelspec": {
   "display_name": "Python (opendarts)",
   "language": "python",
   "name": "with-open-darts"
  },
  "language_info": {
   "codemirror_mode": {
    "name": "ipython",
    "version": 3
   },
   "file_extension": ".py",
   "mimetype": "text/x-python",
   "name": "python",
   "nbconvert_exporter": "python",
   "pygments_lexer": "ipython3",
   "version": "3.8.16"
  },
  "orig_nbformat": 4
 },
 "nbformat": 4,
 "nbformat_minor": 2
}
