{
 "cells": [
  {
   "cell_type": "code",
   "execution_count": null,
   "metadata": {},
   "outputs": [],
   "source": [
    "import pandas as pd\n",
    "import matplotlib.pyplot as plt\n",
    "import pickle"
   ]
  },
  {
   "cell_type": "code",
   "execution_count": null,
   "metadata": {},
   "outputs": [],
   "source": [
    "volumetric_no = pd.read_excel(open('./RealBase/base_resolution_ho_volumetric.xlsx', 'rb'), sheet_name='Sheet1')\n",
    "mass_no = pd.read_excel(open('./RealBase/base_resolution_ho_mass.xlsx', 'rb'), sheet_name='Sheet1')\n",
    "volumetric = pd.read_excel(open('./RealBase/base_resolution_ho_larger.xlsx', 'rb'), sheet_name='Sheet1')\n",
    "mass = pd.read_excel(open('./RealBase/base_resolution_ho_mass_larger.xlsx', 'rb'), sheet_name='Sheet1')\n",
    "\n",
    "fig, ax = plt.subplots(1, 1,figsize=(10, 10))\n",
    "axx = fig.axes\n",
    "time_arr_volume = volumetric_no['time'].to_numpy()/365\n",
    "time_arr_mass = mass_no['time'].to_numpy()/365\n",
    "string = 'PRD : temperature (K)'\n",
    "axx[0].plot(time_arr_volume, volumetric_no[string], linewidth=2, color='r', linestyle='-.', label='volumetric rate no larger volume')\n",
    "axx[0].plot(time_arr_mass, mass_no[string], linewidth=2, color='r', linestyle=':', label='mass rate no larger volume')\n",
    "axx[0].plot(time_arr_volume, volumetric[string], linewidth=2, color='b', linestyle='-.', label='volumetric rate with larger volume')\n",
    "axx[0].plot(time_arr_mass, mass[string], linewidth=2, color='b', linestyle=':', label='mass rate with larger volume')\n",
    "axx[0].grid(which='both',linestyle='--')\n",
    "axx[0].set_xlabel('time [yrs]')\n",
    "axx[0].set_ylabel('temperature [K]')\n",
    "axx[0].legend()\n",
    "plt.show()"
   ]
  },
  {
   "cell_type": "code",
   "execution_count": null,
   "metadata": {},
   "outputs": [],
   "source": [
    "with open('./RealBase/average_pressure_mass.pkl','rb') as f:\n",
    "    x = pickle.load(f)\n",
    "with open('./RealBase/average_pressure_volumetric.pkl','rb') as f1:\n",
    "    x1 = pickle.load(f1)\n",
    "with open('./RealBase/average_pressure_mass_larger.pkl','rb') as f2:\n",
    "    x2 = pickle.load(f2)\n",
    "with open('./RealBase/average_pressure_larger.pkl','rb') as f3:\n",
    "    x3 = pickle.load(f3)\n",
    "\n",
    "\n",
    "fig, ax = plt.subplots(1, 1,figsize=(10, 10))\n",
    "axx = fig.axes\n",
    "axx[0].plot(time_arr_volume[6:], x, linewidth=2, color='r', linestyle='-.', label='mass pressure no larger volume')\n",
    "axx[0].plot(time_arr_volume[6:], x1, linewidth=2, color='r', linestyle=':', label='volume pressure no larger volume')\n",
    "axx[0].plot(time_arr_volume[6:], x2, linewidth=2, color='b', linestyle='-.', label='mass pressure with larger volume')\n",
    "axx[0].plot(time_arr_volume[6:], x3, linewidth=2, color='b', linestyle=':', label='volume pressure  with larger volume')\n",
    "axx[0].grid(which='both',linestyle='--')\n",
    "axx[0].set_xlabel('time [yrs]')\n",
    "axx[0].set_ylabel('pressure [bars]')\n",
    "axx[0].legend()"
   ]
  }
 ],
 "metadata": {
  "kernelspec": {
   "display_name": "geothermics",
   "language": "python",
   "name": "geothermics"
  },
  "language_info": {
   "codemirror_mode": {
    "name": "ipython",
    "version": 3
   },
   "file_extension": ".py",
   "mimetype": "text/x-python",
   "name": "python",
   "nbconvert_exporter": "python",
   "pygments_lexer": "ipython3",
   "version": "3.8.15"
  },
  "orig_nbformat": 4
 },
 "nbformat": 4,
 "nbformat_minor": 2
}
