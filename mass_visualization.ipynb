{
 "cells": [
  {
   "cell_type": "code",
   "execution_count": 1,
   "metadata": {},
   "outputs": [],
   "source": [
    "import pandas as pd\n",
    "import matplotlib.pyplot as plt"
   ]
  },
  {
   "cell_type": "code",
   "execution_count": 10,
   "metadata": {},
   "outputs": [
    {
     "ename": "FileNotFoundError",
     "evalue": "[Errno 2] No such file or directory: './RealBase/base_resolution_ho_larger.xlsx'",
     "output_type": "error",
     "traceback": [
      "\u001b[1;31m-----------------------------------------------------\u001b[0m",
      "\u001b[1;31mFileNotFoundError\u001b[0m   Traceback (most recent call last)",
      "\u001b[1;32mc:\\Users\\ychen62\\Repository\\reference-simulation\\mass_visualization.ipynb Cell 2\u001b[0m in \u001b[0;36m<cell line: 1>\u001b[1;34m()\u001b[0m\n\u001b[1;32m----> <a href='vscode-notebook-cell:/c%3A/Users/ychen62/Repository/reference-simulation/mass_visualization.ipynb#W1sZmlsZQ%3D%3D?line=0'>1</a>\u001b[0m volumetric \u001b[39m=\u001b[39m pd\u001b[39m.\u001b[39mread_excel(\u001b[39mopen\u001b[39;49m(\u001b[39m'\u001b[39;49m\u001b[39m./RealBase/base_resolution_ho_larger.xlsx\u001b[39;49m\u001b[39m'\u001b[39;49m, \u001b[39m'\u001b[39;49m\u001b[39mrb\u001b[39;49m\u001b[39m'\u001b[39;49m), sheet_name\u001b[39m=\u001b[39m\u001b[39m'\u001b[39m\u001b[39mSheet1\u001b[39m\u001b[39m'\u001b[39m)\n\u001b[0;32m      <a href='vscode-notebook-cell:/c%3A/Users/ychen62/Repository/reference-simulation/mass_visualization.ipynb#W1sZmlsZQ%3D%3D?line=1'>2</a>\u001b[0m mass \u001b[39m=\u001b[39m pd\u001b[39m.\u001b[39mread_excel(\u001b[39mopen\u001b[39m(\u001b[39m'\u001b[39m\u001b[39m./RealBase/base_resolution_ho_mass_1.xlsx\u001b[39m\u001b[39m'\u001b[39m, \u001b[39m'\u001b[39m\u001b[39mrb\u001b[39m\u001b[39m'\u001b[39m), sheet_name\u001b[39m=\u001b[39m\u001b[39m'\u001b[39m\u001b[39mSheet1\u001b[39m\u001b[39m'\u001b[39m)\n\u001b[0;32m      <a href='vscode-notebook-cell:/c%3A/Users/ychen62/Repository/reference-simulation/mass_visualization.ipynb#W1sZmlsZQ%3D%3D?line=3'>4</a>\u001b[0m fig, ax \u001b[39m=\u001b[39m plt\u001b[39m.\u001b[39msubplots(\u001b[39m1\u001b[39m, \u001b[39m1\u001b[39m,figsize\u001b[39m=\u001b[39m(\u001b[39m10\u001b[39m, \u001b[39m10\u001b[39m))\n",
      "\u001b[1;31mFileNotFoundError\u001b[0m: [Errno 2] No such file or directory: './RealBase/base_resolution_ho_larger.xlsx'"
     ]
    }
   ],
   "source": [
    "volumetric = pd.read_excel(open('./RealBase/base_resolution_ho_larger.xlsx', 'rb'), sheet_name='Sheet1')\n",
    "mass = pd.read_excel(open('./RealBase/base_resolution_ho_mass_1.xlsx', 'rb'), sheet_name='Sheet1')\n",
    "\n",
    "fig, ax = plt.subplots(1, 1,figsize=(10, 10))\n",
    "axx = fig.axes\n",
    "time_arr_volume = volumetric['time'].to_numpy()/365\n",
    "time_arr_mass = mass['time'].to_numpy()/365\n",
    "string = 'PRD : temperature (K)'\n",
    "axx[0].plot(time_arr_volume, volumetric[string], linewidth=2, color='r', label='volumetric rate')\n",
    "axx[0].plot(time_arr_mass, mass[string], linewidth=2, color='b', label='mass rate')\n",
    "axx[0].grid(which='both',linestyle='--')\n",
    "axx[0].set_xlabel('time [yrs]')\n",
    "axx[0].set_ylabel('temperature [K]')\n",
    "axx[0].legend()\n",
    "plt.show()"
   ]
  }
 ],
 "metadata": {
  "kernelspec": {
   "display_name": "geothermics",
   "language": "python",
   "name": "geothermics"
  },
  "language_info": {
   "codemirror_mode": {
    "name": "ipython",
    "version": 3
   },
   "file_extension": ".py",
   "mimetype": "text/x-python",
   "name": "python",
   "nbconvert_exporter": "python",
   "pygments_lexer": "ipython3",
   "version": "3.8.15"
  },
  "orig_nbformat": 4
 },
 "nbformat": 4,
 "nbformat_minor": 2
}
