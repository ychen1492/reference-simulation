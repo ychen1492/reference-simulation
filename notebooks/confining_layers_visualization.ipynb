{
 "cells": [
  {
   "cell_type": "code",
   "execution_count": null,
   "metadata": {},
   "outputs": [],
   "source": [
    "import pandas as pd\n",
    "import matplotlib.pyplot as plt\n",
    "from mpl_toolkits.axes_grid1 import make_axes_locatable\n",
    "import numpy as np"
   ]
  },
  {
   "cell_type": "code",
   "execution_count": null,
   "metadata": {},
   "outputs": [],
   "source": [
    "x_spacing = 4500\n",
    "y_spacing = 4000\n",
    "z_spacing = 100\n",
    "set_dx = 20\n",
    "set_nx = int(x_spacing / set_dx)\n",
    "set_dy = 75\n",
    "set_ny = int(y_spacing / set_dy)\n",
    "set_dz = 10\n",
    "set_nz = int(z_spacing / set_dz)"
   ]
  },
  {
   "cell_type": "code",
   "execution_count": null,
   "metadata": {},
   "outputs": [],
   "source": [
    "plt.rcParams.update({'font.size': 15})\n",
    "plt.rcParams[\"font.weight\"] = \"bold\"\n",
    "plt.rcParams[\"axes.labelweight\"] = \"bold\"\n",
    "temperature = pd.read_csv('./SerialLayersHo/temperature_layers.csv')\n",
    "pressure = pd.read_csv('./SerialLayersHo/pressure_layers.csv')\n",
    "\n",
    "fig, _ = plt.subplots(2, 1, figsize=(10, 10))\n",
    "ax1 = fig.axes\n",
    "\n",
    "tempplot1 = ax1[0].contour(np.rot90(temperature.iloc[:,-1].to_numpy().reshape(set_nx, set_ny, order='F')),\n",
    "                            extent=(-0.5, set_nx-0.5, -0.5, set_ny-0.5), cmap='coolwarm')\n",
    "pressplot1 = ax1[1].contour(np.rot90(pressure.iloc[:,-1].to_numpy().reshape(set_nx, set_ny, order='F')),\n",
    "                            extent=(-0.5, set_nx-0.5, -0.5, set_ny-0.5))\n",
    "ax1[0].clabel(tempplot1, inline=3, fontsize=10, zorder=1)\n",
    "ax1[0].set_title(\"Temperature, K\")\n",
    "ax1[1].clabel(pressplot1, inline=3, fontsize=10, zorder=1)\n",
    "ax1[1].set_title(\"Pressure, bars\")\n",
    "divider1 = make_axes_locatable(ax1[0])\n",
    "cax1 = divider1.append_axes(\"right\", size=\"5%\", pad=0.1)\n",
    "divider2 = make_axes_locatable(ax1[1])\n",
    "cax2 = divider2.append_axes(\"right\", size=\"5%\", pad=0.1)\n",
    "fig.colorbar(tempplot1, cax=cax1)\n",
    "fig.colorbar(pressplot1, cax=cax2)\n",
    "plt.savefig('confining_layers_ho.png', bbox_inches='tight')"
   ]
  },
  {
   "cell_type": "code",
   "execution_count": null,
   "metadata": {},
   "outputs": [],
   "source": [
    "temperature = pd.read_csv('./SerialLayersHe/temperature_layers.csv')\n",
    "pressure = pd.read_csv('./SerialLayersHe/pressure_layers.csv')\n",
    "\n",
    "fig, _ = plt.subplots(2, 1, figsize=(10, 10))\n",
    "ax1 = fig.axes\n",
    "\n",
    "tempplot1 = ax1[0].contour(np.rot90(temperature.iloc[:,-1].to_numpy().reshape(set_nx, set_ny, order='F')),\n",
    "                            extent=(-0.5, set_nx-0.5, -0.5, set_ny-0.5), cmap='coolwarm')\n",
    "pressplot1 = ax1[1].contour(np.rot90(pressure.iloc[:,-1].to_numpy().reshape(set_nx, set_ny, order='F')),\n",
    "                            extent=(-0.5, set_nx-0.5, -0.5, set_ny-0.5))\n",
    "ax1[0].clabel(tempplot1, inline=3, fontsize=10, zorder=1)\n",
    "ax1[0].set_title(\"Temperature, K\")\n",
    "ax1[1].clabel(pressplot1, inline=3, fontsize=10, zorder=1)\n",
    "ax1[1].set_title(\"Pressure, bars\")\n",
    "divider1 = make_axes_locatable(ax1[0])\n",
    "cax1 = divider1.append_axes(\"right\", size=\"5%\", pad=0.1)\n",
    "divider2 = make_axes_locatable(ax1[1])\n",
    "cax2 = divider2.append_axes(\"right\", size=\"5%\", pad=0.1)\n",
    "fig.colorbar(tempplot1, cax=cax1)\n",
    "fig.colorbar(pressplot1, cax=cax2)\n",
    "plt.savefig('confining_layers_he.png', bbox_inches='tight')"
   ]
  },
  {
   "cell_type": "code",
   "execution_count": null,
   "metadata": {},
   "outputs": [],
   "source": [
    "temperature = pd.read_csv('./SerialLayersStratified/temperature_layers.csv')\n",
    "pressure = pd.read_csv('./SerialLayersStratified/pressure_layers.csv')\n",
    "\n",
    "fig, _ = plt.subplots(2, 1, figsize=(10, 10))\n",
    "ax1 = fig.axes\n",
    "\n",
    "tempplot1 = ax1[0].contour(np.rot90(temperature.iloc[:,-1].to_numpy().reshape(set_nx, set_ny, order='F')),\n",
    "                            extent=(-0.5, set_nx-0.5, -0.5, set_ny-0.5), cmap='coolwarm')\n",
    "pressplot1 = ax1[1].contour(np.rot90(pressure.iloc[:,-1].to_numpy().reshape(set_nx, set_ny, order='F')),\n",
    "                            extent=(-0.5, set_nx-0.5, -0.5, set_ny-0.5))\n",
    "ax1[0].clabel(tempplot1, inline=3, fontsize=10, zorder=1)\n",
    "ax1[0].set_title(\"Temperature, K\")\n",
    "ax1[1].clabel(pressplot1, inline=3, fontsize=10, zorder=1)\n",
    "ax1[1].set_title(\"Pressure, bars\")\n",
    "divider1 = make_axes_locatable(ax1[0])\n",
    "cax1 = divider1.append_axes(\"right\", size=\"5%\", pad=0.1)\n",
    "divider2 = make_axes_locatable(ax1[1])\n",
    "cax2 = divider2.append_axes(\"right\", size=\"5%\", pad=0.1)\n",
    "fig.colorbar(tempplot1, cax=cax1)\n",
    "fig.colorbar(pressplot1, cax=cax2)\n",
    "plt.savefig('confining_layers_stratified.png', bbox_inches='tight')"
   ]
  }
 ],
 "metadata": {
  "kernelspec": {
   "display_name": "general_3.8",
   "language": "python",
   "name": "general_3.8"
  },
  "language_info": {
   "codemirror_mode": {
    "name": "ipython",
    "version": 3
   },
   "file_extension": ".py",
   "mimetype": "text/x-python",
   "name": "python",
   "nbconvert_exporter": "python",
   "pygments_lexer": "ipython3",
   "version": "3.8.16"
  },
  "orig_nbformat": 4
 },
 "nbformat": 4,
 "nbformat_minor": 2
}
