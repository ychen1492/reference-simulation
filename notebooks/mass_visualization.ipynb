{
 "cells": [
  {
   "cell_type": "code",
   "execution_count": null,
   "metadata": {},
   "outputs": [],
   "source": [
    "import pandas as pd\n",
    "import matplotlib.pyplot as plt"
   ]
  },
  {
   "cell_type": "code",
   "execution_count": null,
   "metadata": {},
   "outputs": [],
   "source": [
    "grav = pd.read_excel(open('./RealBase/base_resolution_ho.xlsx', 'rb'), sheet_name='Sheet1')\n",
    "nograv = pd.read_excel(open('./RealBase/base_resolution_ho_mass.xlsx', 'rb'), sheet_name='Sheet1')\n",
    "\n",
    "fig, ax = plt.subplots(1, 1,figsize=(10, 10))\n",
    "axx = fig.axes\n",
    "time_arr = grav['time'].to_numpy()\n",
    "string = 'PRD : temperature (K)'\n",
    "axx[0].plot(grav['time'], grav[string], linewidth=2, color='r', label='with grav')\n",
    "axx[0].plot(nograv['time'], nograv[string], linewidth=2, color='b', label='without grav')\n",
    "axx[0].grid(which='both',linestyle='--')\n",
    "axx[0].set_xlabel('time [days]')\n",
    "axx[0].set_ylabel('temperature [K]')\n",
    "plt.show()"
   ]
  }
 ],
 "metadata": {
  "kernelspec": {
   "display_name": "geothermics",
   "language": "python",
   "name": "geothermics"
  },
  "language_info": {
   "name": "python",
   "version": "3.8.15"
  },
  "orig_nbformat": 4
 },
 "nbformat": 4,
 "nbformat_minor": 2
}
